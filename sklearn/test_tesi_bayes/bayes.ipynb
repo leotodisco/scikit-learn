{
 "cells": [
  {
   "cell_type": "code",
   "execution_count": 46,
   "metadata": {},
   "outputs": [],
   "source": [
    "import pandas as pd\n",
    "import seaborn as sns\n",
    "\n",
    "data = pd.read_csv(\"./heart.csv\", sep=\",\")"
   ]
  },
  {
   "cell_type": "code",
   "execution_count": 47,
   "metadata": {},
   "outputs": [],
   "source": [
    "import pandas as pd\n",
    "import matplotlib as plb\n",
    "import matplotlib.pyplot as plt\n",
    "from sklearn import preprocessing\n",
    "import imblearn\n",
    "from collections import Counter\n",
    "\n",
    "def pre(data): \n",
    "    to_drop_columns = [ 'exang', 'ca', 'cp', 'slope', 'oldpeak', 'restecg']\n",
    "    data.drop(to_drop_columns, axis=1, inplace=True)\n",
    "    colonne_tenute = [\"age\",\"sex\",\"trestbps\",\"chol\",\"fbs\",\"thalach\",\"thal\", \"target\"]\n",
    "    \n",
    "    scaler = preprocessing.MinMaxScaler((0, 1))\n",
    "    data = scaler.fit_transform(data)\n",
    "    data = pd.DataFrame(data=data, columns=colonne_tenute)\n",
    "    print(data)\n",
    "\n",
    "    oversample = imblearn.over_sampling.SMOTE() #usa k-nearest-neighbours\n",
    "    x_data, y_data = oversample.fit_resample(data.iloc[: , : -1], data[\"target\"])\n",
    "\n",
    "\n",
    "    return x_data, y_data\n",
    "        "
   ]
  },
  {
   "cell_type": "code",
   "execution_count": 48,
   "metadata": {},
   "outputs": [
    {
     "name": "stdout",
     "output_type": "stream",
     "text": [
      "           age  sex  trestbps      chol  fbs   thalach      thal  target\n",
      "0     0.479167  1.0  0.292453  0.196347  0.0  0.740458  1.000000     0.0\n",
      "1     0.500000  1.0  0.433962  0.175799  1.0  0.641221  1.000000     0.0\n",
      "2     0.854167  1.0  0.481132  0.109589  0.0  0.412214  1.000000     0.0\n",
      "3     0.666667  1.0  0.509434  0.175799  0.0  0.687023  1.000000     0.0\n",
      "4     0.687500  0.0  0.415094  0.383562  1.0  0.267176  0.666667     0.0\n",
      "...        ...  ...       ...       ...  ...       ...       ...     ...\n",
      "1020  0.625000  1.0  0.433962  0.216895  0.0  0.709924  0.666667     1.0\n",
      "1021  0.645833  1.0  0.292453  0.301370  0.0  0.534351  1.000000     0.0\n",
      "1022  0.375000  1.0  0.150943  0.340183  0.0  0.358779  0.666667     0.0\n",
      "1023  0.437500  0.0  0.150943  0.292237  0.0  0.671756  0.666667     1.0\n",
      "1024  0.520833  1.0  0.245283  0.141553  0.0  0.320611  1.000000     0.0\n",
      "\n",
      "[1025 rows x 8 columns]\n",
      "0.2329200359389036\n"
     ]
    }
   ],
   "source": [
    "from sklearn import naive_bayes\n",
    "from sklearn.model_selection import KFold\n",
    "from sklearn.metrics import recall_score\n",
    "from sklearn.metrics import precision_score\n",
    "from sklearn.model_selection import cross_val_score\n",
    "from numpy import mean\n",
    "from numpy import absolute\n",
    "\n",
    "x_train, y_train = pre(data)\n",
    "flag = 0\n",
    "\n",
    "for i in range (0, 50):\n",
    "    cv = KFold(n_splits=10)\n",
    "    model = naive_bayes.GaussianNB()\n",
    "    score = cross_val_score(model, x_train, y_train, scoring='neg_mean_absolute_error', cv=cv, n_jobs=-1) #errore assoluto per 10 split\n",
    "    flag = flag + mean(absolute(score))\n",
    "print(flag/50)\n",
    "#fa 10 volte il training e stampa la media dell'errore assoluto di ogni validazione\n"
   ]
  },
  {
   "attachments": {},
   "cell_type": "markdown",
   "metadata": {},
   "source": []
  },
  {
   "cell_type": "code",
   "execution_count": 49,
   "metadata": {},
   "outputs": [
    {
     "name": "stderr",
     "output_type": "stream",
     "text": [
      "/tmp/ipykernel_55589/4243024775.py:36: UserWarning: FixedFormatter should only be used together with FixedLocator\n",
      "  ax.set_xticklabels([''] + labels)\n",
      "/tmp/ipykernel_55589/4243024775.py:37: UserWarning: FixedFormatter should only be used together with FixedLocator\n",
      "  ax.set_yticklabels([''] + labels)\n"
     ]
    },
    {
     "data": {
      "image/png": "[encoded data removed]",
      "text/plain": [
       "<Figure size 640x480 with 2 Axes>"
      ]
     },
     "metadata": {},
     "output_type": "display_data"
    },
    {
     "name": "stdout",
     "output_type": "stream",
     "text": [
      "recall =  0.6707317073170732\n",
      "precision =  0.7432432432432432\n",
      "accuracy =  0.7378917378917379\n",
      "f1 =  0.7051282051282052\n"
     ]
    }
   ],
   "source": [
    "\n",
    "from sklearn.metrics import recall_score\n",
    "from sklearn.metrics import precision_score\n",
    "from sklearn.metrics import accuracy_score\n",
    "from sklearn.metrics import f1_score\n",
    "from sklearn.metrics import confusion_matrix\n",
    "import cProfile\n",
    "import pstats\n",
    "\n",
    "from pyJoules.energy_meter import EnergyContext, EnergyMeter, DeviceFactory\n",
    "from pyJoules.device.rapl_device import RaplPackageDomain, RaplDramDomain\n",
    "from pyJoules.handler.csv_handler import CSVHandler\n",
    "csv_handler = CSVHandler('result.csv')\n",
    "\n",
    "model = naive_bayes.GaussianNB()\n",
    "\n",
    "\n",
    "with cProfile.Profile() as profile:\n",
    "    with open(\"stats.txt\", \"w\") as stream:\n",
    "            with EnergyContext(handler=csv_handler, domains=[RaplPackageDomain(0), RaplDramDomain(0)]) as ctx:\n",
    "                  ctx.record()\n",
    "                  model.fit(x_train[:700], y_train[:700])\n",
    "                  prediction = model.predict(x_train[701:])\n",
    "                  results = pstats.Stats(profile, stream=stream)\n",
    "                  results.sort_stats(pstats.SortKey.TIME)\n",
    "                  results.print_stats()\n",
    "csv_handler.save_data()\n",
    "\n",
    "\n",
    "labels = ['positivo', 'negativo']\n",
    "matrice = confusion_matrix(y_train[701:], prediction)\n",
    "fig = plt.figure()\n",
    "ax = fig.add_subplot(111)\n",
    "cax = ax.matshow(matrice)\n",
    "plt.title('Matrice di Confusione \\n Reali')\n",
    "fig.colorbar(cax)\n",
    "ax.set_xticklabels([''] + labels)\n",
    "ax.set_yticklabels([''] + labels)\n",
    "plt.ylabel('Predetti')\n",
    "#plt.xlabel('Reali')\n",
    "plt.show()\n",
    "\n",
    "\n",
    "recall_value = recall_score(y_train[701:], prediction)\n",
    "print(\"recall = \", recall_value)\n",
    "\n",
    "precision_value = precision_score(y_train[701:], prediction)\n",
    "print(\"precision = \", precision_value)\n",
    "\n",
    "accuracy_value = accuracy_score(y_train[701:], prediction)\n",
    "print(\"accuracy = \", accuracy_value)\n",
    "\n",
    "fmeasure_value = f1_score(y_train[701:], prediction)\n",
    "print(\"f1 = \", fmeasure_value)"
   ]
  },
  {
   "cell_type": "code",
   "execution_count": 50,
   "metadata": {},
   "outputs": [
    {
     "name": "stdout",
     "output_type": "stream",
     "text": [
      " * Serving Flask app '__main__'\n",
      " * Debug mode: off\n"
     ]
    },
    {
     "name": "stderr",
     "output_type": "stream",
     "text": [
      "WARNING: This is a development server. Do not use it in a production deployment. Use a production WSGI server instead.\n",
      " * Running on http://127.0.0.1:8082\n",
      "INFO:werkzeug:\u001b[31m\u001b[1mWARNING: This is a development server. Do not use it in a production deployment. Use a production WSGI server instead.\u001b[0m\n",
      " * Running on http://127.0.0.1:8082\n",
      "Press CTRL+C to quit\n",
      "INFO:werkzeug:\u001b[33mPress CTRL+C to quit\u001b[0m\n"
     ]
    }
   ],
   "source": [
    "import flask\n",
    "from flask import request, jsonify\n",
    "from flask import Response\n",
    "import numpy as np\n",
    "import pandas as pd\n",
    "\n",
    "app = flask.Flask(__name__)\n",
    "\n",
    "@app.route('/', methods=['POST'])\n",
    "def predici():\n",
    "    query_parameters = request.get_json()\n",
    "    x_data = pd.DataFrame(query_parameters, index=[0])\n",
    "    \n",
    "    age = query_parameters[\"age\"]\n",
    "    sex = query_parameters[\"sex\"]\n",
    "    trestbps = query_parameters[\"trestbps\"]\n",
    "    chol = query_parameters[\"chol\"]\n",
    "    fbs = query_parameters[\"fbs\"]\n",
    "    thalach = query_parameters[\"thalach\"]\n",
    "    thal = query_parameters[\"thal\"]\n",
    "\n",
    "    v = np.array(x_data)\n",
    "    print(v)\n",
    "\n",
    "    scaler = preprocessing.MinMaxScaler((0, 1))\n",
    "    x_data = scaler.fit_transform(v.reshape(7,1))\n",
    "\n",
    "\n",
    "    colonne_tenute = [\"age\",\"sex\",\"trestbps\",\"chol\",\"fbs\",\"thalach\",\"thal\"]\n",
    "    x_data = pd.DataFrame(data=x_data.reshape(1, 7), columns=colonne_tenute)\n",
    "\n",
    "    print(\"dopo scaling \", x_data)\n",
    "    \n",
    "    #chiama il modello\n",
    "    with cProfile.Profile() as profile:\n",
    "        with open(\"stats_predict.txt\", \"w\") as stream:\n",
    "            result = model.predict(x_data)\n",
    "            results = pstats.Stats(profile, stream=stream)\n",
    "            results.sort_stats(pstats.SortKey.TIME)\n",
    "            results.print_stats()\n",
    "    \n",
    "    print(result)\n",
    "\n",
    "    return str(result)\n",
    "\n",
    "if __name__ == \"__main__\":\n",
    "    app.run(port=8082)"
   ]
  }
 ],
 "metadata": {
  "kernelspec": {
   "display_name": "Python 3",
   "language": "python",
   "name": "python3"
  },
  "language_info": {
   "codemirror_mode": {
    "name": "ipython",
    "version": 3
   },
   "file_extension": ".py",
   "mimetype": "text/x-python",
   "name": "python",
   "nbconvert_exporter": "python",
   "pygments_lexer": "ipython3",
   "version": "3.11.4"
  },
  "orig_nbformat": 4,
  "vscode": {
   "interpreter": {
    "hash": "b0fa6594d8f4cbf19f97940f81e996739fb7646882a419484c72d19e05852a7e"
   }
  }
 },
 "nbformat": 4,
 "nbformat_minor": 2
}
